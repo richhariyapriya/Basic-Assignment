{
 "cells": [
  {
   "cell_type": "markdown",
   "id": "00902b52",
   "metadata": {},
   "source": [
    "### 1.Write a Python Program to find the factorial of a number ?"
   ]
  },
  {
   "cell_type": "code",
   "execution_count": 4,
   "id": "ae849924",
   "metadata": {},
   "outputs": [
    {
     "name": "stdout",
     "output_type": "stream",
     "text": [
      "Factorial of 4 is 24\n"
     ]
    }
   ],
   "source": [
    "# Python 3 program to find\n",
    "# factorial of given number\n",
    "def factorial(n):\n",
    "\tif n < 0:\n",
    "\t\treturn 0\n",
    "\telif n == 0 or n == 1:\n",
    "\t\treturn 1\n",
    "\telse:\n",
    "\t\tfact = 1\n",
    "\t\twhile(n > 1):\n",
    "\t\t\tfact *= n\n",
    "\t\t\tn -= 1\n",
    "\t\treturn fact\n",
    "\n",
    "# Driver Code\n",
    "num = 4\n",
    "print(\"Factorial of\",num,\"is\",\n",
    "factorial(num))\n",
    "\n",
    "# This code is contributed by Dharmik Thakkar\n"
   ]
  },
  {
   "cell_type": "markdown",
   "id": "b5c0592a",
   "metadata": {},
   "source": [
    "### 2.Write a Python Program to display the multiplication table ?"
   ]
  },
  {
   "cell_type": "code",
   "execution_count": 5,
   "id": "dbbe2cb0",
   "metadata": {},
   "outputs": [
    {
     "name": "stdout",
     "output_type": "stream",
     "text": [
      "Enter the number you wants to print the multiplication table: 6\n",
      "The Multiplication Table of:  6\n",
      "6 x 1 = 6\n",
      "6 x 2 = 12\n",
      "6 x 3 = 18\n",
      "6 x 4 = 24\n",
      "6 x 5 = 30\n",
      "6 x 6 = 36\n",
      "6 x 7 = 42\n",
      "6 x 8 = 48\n",
      "6 x 9 = 54\n",
      "6 x 10 = 60\n"
     ]
    }
   ],
   "source": [
    "    number = int(input (\"Enter the number you wants to print the multiplication table: \"))      \n",
    "    # We are using \"for loop\" to iterate the multiplication 10 times       \n",
    "    print (\"The Multiplication Table of: \", number)    \n",
    "    for count in range(1, 11):      \n",
    "       print (number, 'x', count, '=', number * count)    "
   ]
  },
  {
   "cell_type": "markdown",
   "id": "c2d458e1",
   "metadata": {},
   "source": [
    "### 3.Write a Python Program to print the fibonacci sequence ?"
   ]
  },
  {
   "cell_type": "code",
   "execution_count": 7,
   "id": "b0a0ca55",
   "metadata": {},
   "outputs": [
    {
     "name": "stdout",
     "output_type": "stream",
     "text": [
      "Enter length of Fibonacci series: 10\n",
      "0 1 1 2 3 5 8 13 21 34 "
     ]
    }
   ],
   "source": [
    "n = int(input(\"Enter length of Fibonacci series: \"))\n",
    "num1 = 0\n",
    "num2 = 1\n",
    "next_number = 0\n",
    "count = 1\n",
    "\n",
    "while(count <= n):\n",
    "\tprint(next_number, end=\" \")\n",
    "\tcount += 1\n",
    "\tnum1 = num2\n",
    "\tnum2 = next_number\n",
    "\tnext_number = num1 + num2\n",
    "\tt_number = num1 + num2\n"
   ]
  },
  {
   "cell_type": "markdown",
   "id": "50b3c578",
   "metadata": {},
   "source": [
    "### 4.Write a Python Program to check Armstrong number ?"
   ]
  },
  {
   "cell_type": "code",
   "execution_count": 8,
   "id": "efffd5e3",
   "metadata": {},
   "outputs": [
    {
     "name": "stdout",
     "output_type": "stream",
     "text": [
      "True\n",
      "False\n"
     ]
    }
   ],
   "source": [
    "# Python program to determine whether\n",
    "# the number is Armstrong number or not\n",
    "\n",
    "# Function to calculate x raised to\n",
    "# the power y\n",
    "def power(x, y):\n",
    "\t\n",
    "\tif y == 0:\n",
    "\t\treturn 1\n",
    "\tif y % 2 == 0:\n",
    "\t\treturn power(x, y // 2) * power(x, y // 2)\n",
    "\t\t\n",
    "\treturn x * power(x, y // 2) * power(x, y // 2)\n",
    "\n",
    "# Function to calculate order of the number\n",
    "def order(x):\n",
    "\n",
    "\t# Variable to store of the number\n",
    "\tn = 0\n",
    "\twhile (x != 0):\n",
    "\t\tn = n + 1\n",
    "\t\tx = x // 10\n",
    "\t\t\n",
    "\treturn n\n",
    "\n",
    "# Function to check whether the given\n",
    "# number is Armstrong number or not\n",
    "def isArmstrong(x):\n",
    "\t\n",
    "\tn = order(x)\n",
    "\ttemp = x\n",
    "\tsum1 = 0\n",
    "\t\n",
    "\twhile (temp != 0):\n",
    "\t\tr = temp % 10\n",
    "\t\tsum1 = sum1 + power(r, n)\n",
    "\t\ttemp = temp // 10\n",
    "\n",
    "\t# If condition satisfies\n",
    "\treturn (sum1 == x)\n",
    "\n",
    "# Driver code\n",
    "x = 153\n",
    "print(isArmstrong(x))\n",
    "\n",
    "x = 1253\n",
    "print(isArmstrong(x))\n"
   ]
  },
  {
   "cell_type": "markdown",
   "id": "791d52fb",
   "metadata": {},
   "source": [
    "### 5.Write a Python Program to Find Armstrong number in an interval ?"
   ]
  },
  {
   "cell_type": "code",
   "execution_count": null,
   "id": "a781d242",
   "metadata": {},
   "outputs": [],
   "source": []
  }
 ],
 "metadata": {
  "kernelspec": {
   "display_name": "Python 3 (ipykernel)",
   "language": "python",
   "name": "python3"
  },
  "language_info": {
   "codemirror_mode": {
    "name": "ipython",
    "version": 3
   },
   "file_extension": ".py",
   "mimetype": "text/x-python",
   "name": "python",
   "nbconvert_exporter": "python",
   "pygments_lexer": "ipython3",
   "version": "3.9.7"
  }
 },
 "nbformat": 4,
 "nbformat_minor": 5
}
