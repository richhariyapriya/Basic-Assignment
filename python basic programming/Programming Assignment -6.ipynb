{
 "cells": [
  {
   "cell_type": "markdown",
   "id": "38348ed8",
   "metadata": {},
   "source": [
    "### 1.What are Escape characters ? and how do you use them ?"
   ]
  },
  {
   "cell_type": "markdown",
   "id": "ec73a697",
   "metadata": {},
   "source": [
    "**Ans:** Escape characters represent characters in string values that would otherwise be difficult or impossible to type into code. we can use the backslash character to escape a single character or symbol\n",
    "example: `\\t, \\n`"
   ]
  },
  {
   "cell_type": "markdown",
   "id": "5bf300ca",
   "metadata": {},
   "source": [
    "### 2.What do the escape characters n and t stand for ?"
   ]
  },
  {
   "cell_type": "markdown",
   "id": "1772ff8f",
   "metadata": {},
   "source": [
    "**Ans:** `\\n` is a newline, `\\t` is a tab"
   ]
  },
  {
   "cell_type": "markdown",
   "id": "f26b5e93",
   "metadata": {},
   "source": [
    "### 3.What is the way to include backslash character in a string?"
   ]
  },
  {
   "cell_type": "markdown",
   "id": "3d991bac",
   "metadata": {},
   "source": [
    "**Ans:** The `\\\\` escape character will represent the backslash character in a string"
   ]
  },
  {
   "cell_type": "markdown",
   "id": "f59c7acf",
   "metadata": {},
   "source": [
    "### 4.The string \"Howl's Moving Castle\" is a correct value. Why isn't the single quote character in the word Howl's not escaped a problem ?"
   ]
  },
  {
   "cell_type": "markdown",
   "id": "6bde3dc1",
   "metadata": {},
   "source": [
    "**Ans:** The string \"Howl's Moving Castle\" escaped the problem because it is wrapped inside double quotes. if its wrapped inside single quotes then we have to use escape character \\' to show single quote in the final output\n",
    "'Howl\\'s Moving Castle' -> 'Howl's Moving Castle'"
   ]
  },
  {
   "cell_type": "markdown",
   "id": "d0297ec6",
   "metadata": {},
   "source": [
    "### 5.How do you write a string of newlines if you don't want to use the n character?"
   ]
  },
  {
   "cell_type": "code",
   "execution_count": 1,
   "id": "c128dcb2",
   "metadata": {},
   "outputs": [
    {
     "name": "stdout",
     "output_type": "stream",
     "text": [
      "iNeuron full stack\n",
      "Data Science Course\n"
     ]
    }
   ],
   "source": [
    "# Example:\n",
    "a = '''iNeuron full stack\n",
    "Data Science Course'''\n",
    "print(a)"
   ]
  },
  {
   "cell_type": "markdown",
   "id": "f2529b95",
   "metadata": {},
   "source": [
    "### 6.What are the values of the given expressions ?"
   ]
  },
  {
   "cell_type": "markdown",
   "id": "0d723b54",
   "metadata": {},
   "source": [
    "'Hello, world!'[1] \n",
    " 'Hello, world!'[0:5] \n",
    " 'Hello, world!'[:5]\n",
    " 'Hello, world!'[3:] "
   ]
  },
  {
   "cell_type": "markdown",
   "id": "b375a461",
   "metadata": {},
   "source": [
    "**Ans:** The values for the given expressions are:<br>\n",
    "'Hello, world!'[1] **->**` 'e'`<br>\n",
    "'Hello, world!'[0:5] **->** `'Hello'`<br>\n",
    "'Hello, world!'[:5] **->**`'Hello'`<br>\n",
    "'Hello, world!'[3:] **->**`'lo, world!'`<br>\n"
   ]
  },
  {
   "cell_type": "markdown",
   "id": "8322eff4",
   "metadata": {},
   "source": [
    "7.What are the values of the following expressions ?"
   ]
  },
  {
   "cell_type": "markdown",
   "id": "928c9758",
   "metadata": {},
   "source": [
    "'Hello'.upper()\n",
    "'Hello'.upper().isupper()\n",
    "'Hello'.upper().lower()"
   ]
  },
  {
   "cell_type": "markdown",
   "id": "021074a3",
   "metadata": {},
   "source": [
    "**Ans:** The values for the given expressions are:<br>\n",
    "'Hello'.upper() -> `'HELLO'`<br>\n",
    "'Hello'.upper().isupper() -> `True`<br>\n",
    "'Hello'.upper().lower() -> `'hello'`<br>"
   ]
  },
  {
   "cell_type": "markdown",
   "id": "cc7a458e",
   "metadata": {},
   "source": [
    "### 8.What are the values of the following expressions ?"
   ]
  },
  {
   "cell_type": "markdown",
   "id": "cc0779e8",
   "metadata": {},
   "source": [
    "'Remember, remember, the fifith of July.'.split()<br>\n",
    "-'.join('There can only one'.split())"
   ]
  },
  {
   "cell_type": "markdown",
   "id": "9fb763a8",
   "metadata": {},
   "source": [
    "**Ans:** The values for the given expressions are:<br>\n",
    "'Remember, remember, the fifith of July.'.split() **->** `['Remember,', 'remember,', 'the', 'fifith', 'of', 'July.']\n",
    "'-'.join('There can only one'.split()) -> 'There-can-only-one'`"
   ]
  },
  {
   "cell_type": "markdown",
   "id": "23805d6d",
   "metadata": {},
   "source": [
    "### 9.What are the methods for right-justifying, left-justifying and centering a string ?"
   ]
  },
  {
   "cell_type": "markdown",
   "id": "6aa9a9d1",
   "metadata": {},
   "source": [
    "**Ans:** The `rjust(),ljust(),center() string methods,` respectively"
   ]
  },
  {
   "cell_type": "markdown",
   "id": "d97392c2",
   "metadata": {},
   "source": [
    "### 10.What is the best way to remove whitespace characters from the start or end ?"
   ]
  },
  {
   "cell_type": "markdown",
   "id": "c496d56a",
   "metadata": {},
   "source": [
    "**Ans:** The `lstrip()` and `rstrip()` methods remove whitesapce characters from the left and right ends of a string respectively"
   ]
  },
  {
   "cell_type": "code",
   "execution_count": null,
   "id": "d66cf9aa",
   "metadata": {},
   "outputs": [],
   "source": []
  }
 ],
 "metadata": {
  "kernelspec": {
   "display_name": "Python 3 (ipykernel)",
   "language": "python",
   "name": "python3"
  },
  "language_info": {
   "codemirror_mode": {
    "name": "ipython",
    "version": 3
   },
   "file_extension": ".py",
   "mimetype": "text/x-python",
   "name": "python",
   "nbconvert_exporter": "python",
   "pygments_lexer": "ipython3",
   "version": "3.9.7"
  }
 },
 "nbformat": 4,
 "nbformat_minor": 5
}
