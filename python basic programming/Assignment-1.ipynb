{
 "cells": [
  {
   "cell_type": "markdown",
   "id": "7953804b",
   "metadata": {},
   "source": [
    "### 1.Write a Python program to print 'Hello Python' ?"
   ]
  },
  {
   "cell_type": "code",
   "execution_count": 1,
   "id": "20f87bed",
   "metadata": {},
   "outputs": [
    {
     "name": "stdout",
     "output_type": "stream",
     "text": [
      "Hello Python\n"
     ]
    }
   ],
   "source": [
    "print ('Hello Python')"
   ]
  },
  {
   "cell_type": "markdown",
   "id": "4e6b7d9e",
   "metadata": {},
   "source": [
    "### 2.Write a Python program to do arithmetic operations addition and division ?"
   ]
  },
  {
   "cell_type": "code",
   "execution_count": 39,
   "id": "8abd8913",
   "metadata": {},
   "outputs": [
    {
     "name": "stdout",
     "output_type": "stream",
     "text": [
      "enter first number to add: 6\n",
      "enter second number to add: 4\n",
      "the sum of Given number is =  10\n"
     ]
    }
   ],
   "source": [
    "value1 = int(input(\"enter first number to add: \"))\n",
    "value2 = int(input(\"enter second number to add: \"))\n",
    "\n",
    "# using the addition operator\n",
    "res = value1  + value2\n",
    "print(\"the sum of Given number is = \",res )"
   ]
  },
  {
   "cell_type": "code",
   "execution_count": 17,
   "id": "934ba357",
   "metadata": {},
   "outputs": [
    {
     "name": "stdout",
     "output_type": "stream",
     "text": [
      "2.0\n"
     ]
    }
   ],
   "source": [
    "value1 = 10\n",
    "value2 = 5\n",
    "\n",
    "# using the division operator\n",
    "res = value1  / value2\n",
    "print(res)\n"
   ]
  },
  {
   "cell_type": "markdown",
   "id": "b5a8839b",
   "metadata": {},
   "source": [
    "### 3.Write a Python program to find the area of a triangle ?"
   ]
  },
  {
   "cell_type": "code",
   "execution_count": 18,
   "id": "91ae3ee7",
   "metadata": {},
   "outputs": [
    {
     "name": "stdout",
     "output_type": "stream",
     "text": [
      "The area of the triangle is 14.70\n"
     ]
    }
   ],
   "source": [
    "# Python Program to find the area of triangle\n",
    "\n",
    "a = 5\n",
    "b = 6\n",
    "c = 7\n",
    "\n",
    "# Uncomment below to take inputs from the user\n",
    "# a = float(input('Enter first side: '))\n",
    "# b = float(input('Enter second side: '))\n",
    "# c = float(input('Enter third side: '))\n",
    "\n",
    "# calculate the semi-perimeter\n",
    "s = (a + b + c) / 2\n",
    "\n",
    "# calculate the area\n",
    "area = (s*(s-a)*(s-b)*(s-c)) ** 0.5\n",
    "print('The area of the triangle is %0.2f' %area)"
   ]
  },
  {
   "cell_type": "markdown",
   "id": "6cd349e7",
   "metadata": {},
   "source": [
    "**second method to find the area of triangle**"
   ]
  },
  {
   "cell_type": "code",
   "execution_count": 21,
   "id": "b07f3457",
   "metadata": {},
   "outputs": [
    {
     "name": "stdout",
     "output_type": "stream",
     "text": [
      "Enter height of the triangle: 10\n",
      "Enter base of the triangle: 2\n",
      "Area of triangle =  10.0\n"
     ]
    }
   ],
   "source": [
    "h = float(input(\"Enter height of the triangle: \"))\n",
    "b = float(input(\"Enter base of the triangle: \"))\n",
    "area = 0.5 * b * h\n",
    "print(\"Area of triangle = \", area)"
   ]
  },
  {
   "cell_type": "markdown",
   "id": "4dc6e599",
   "metadata": {},
   "source": [
    "### 4.Write a Python program to swap two variables ?"
   ]
  },
  {
   "cell_type": "code",
   "execution_count": 23,
   "id": "91d5219e",
   "metadata": {},
   "outputs": [
    {
     "name": "stdout",
     "output_type": "stream",
     "text": [
      "Value of x: 50\n",
      "Value of y: 10\n"
     ]
    }
   ],
   "source": [
    "# Python program to demonstrate\n",
    "# swapping of two variables\n",
    "\n",
    "\n",
    "x = 10\n",
    "y = 50\n",
    "\n",
    "# Swapping of two variables\n",
    "# without using third variable\n",
    "x, y = y, x\n",
    "\n",
    "print(\"Value of x:\", x)\n",
    "print(\"Value of y:\", y)\n"
   ]
  },
  {
   "cell_type": "markdown",
   "id": "75dd1f0f",
   "metadata": {},
   "source": [
    "**second method using temporary variables**"
   ]
  },
  {
   "cell_type": "code",
   "execution_count": 27,
   "id": "17c1cbc8",
   "metadata": {},
   "outputs": [
    {
     "name": "stdout",
     "output_type": "stream",
     "text": [
      "enter the value of x : 5\n",
      "enter the value of y : 6\n",
      "Value of x: 6\n",
      "Value of y: 5\n"
     ]
    }
   ],
   "source": [
    "# Python program to demonstrate\n",
    "# swapping of two variables\n",
    "\n",
    "x = int(input(\"enter the value of x : \"))\n",
    "y = int(input(\"enter the value of y : \"))\n",
    "\n",
    "# Swapping of two variables\n",
    "# Using third variable\n",
    "temp = x\n",
    "x = y\n",
    "y = temp\n",
    "\n",
    "print(\"Value of x:\", x)\n",
    "print(\"Value of y:\", y)\n"
   ]
  },
  {
   "cell_type": "markdown",
   "id": "c4f45776",
   "metadata": {},
   "source": [
    "### 5.Write a Python program to generate a random number ?"
   ]
  },
  {
   "cell_type": "code",
   "execution_count": 55,
   "id": "e65e547c",
   "metadata": {},
   "outputs": [
    {
     "name": "stdout",
     "output_type": "stream",
     "text": [
      "18\n"
     ]
    }
   ],
   "source": [
    "import random\n",
    "n = random.randint(0,22)\n",
    "print(n)"
   ]
  }
 ],
 "metadata": {
  "kernelspec": {
   "display_name": "Python 3 (ipykernel)",
   "language": "python",
   "name": "python3"
  },
  "language_info": {
   "codemirror_mode": {
    "name": "ipython",
    "version": 3
   },
   "file_extension": ".py",
   "mimetype": "text/x-python",
   "name": "python",
   "nbconvert_exporter": "python",
   "pygments_lexer": "ipython3",
   "version": "3.9.7"
  }
 },
 "nbformat": 4,
 "nbformat_minor": 5
}
