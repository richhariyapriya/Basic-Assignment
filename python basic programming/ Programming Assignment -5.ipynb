{
 "cells": [
  {
   "cell_type": "markdown",
   "id": "22640fc2",
   "metadata": {},
   "source": [
    "### 1.What does an empty dictionary's code look like?"
   ]
  },
  {
   "cell_type": "markdown",
   "id": "cf77a38c",
   "metadata": {},
   "source": [
    "Ans: An empty dictionary is often represented by two empty curly brackets\n",
    "d = {} or d = dict()"
   ]
  },
  {
   "cell_type": "markdown",
   "id": "30da5563",
   "metadata": {},
   "source": [
    "### 2.what is the value of dictionary value with key 'foo' and the value 42 ?"
   ]
  },
  {
   "cell_type": "code",
   "execution_count": 1,
   "id": "af4bfc53",
   "metadata": {},
   "outputs": [],
   "source": [
    "Ans: {'foo':42}"
   ]
  },
  {
   "cell_type": "markdown",
   "id": "b6dd0be1",
   "metadata": {},
   "source": [
    "### 3.What is the most significant distinction between a dictionary and a list?"
   ]
  },
  {
   "cell_type": "markdown",
   "id": "c8e20358",
   "metadata": {},
   "source": [
    "Ans: Dictionaries are represented by {} where as listed are represented by []\n",
    "The Items stored in a dictionary are Unordered , while the items in a list are ordered"
   ]
  },
  {
   "cell_type": "markdown",
   "id": "1d9304c4",
   "metadata": {},
   "source": [
    "### 4.What happens if you try to access spam ['foo'] if spam is {'bar':100} ?"
   ]
  },
  {
   "cell_type": "markdown",
   "id": "994ca48d",
   "metadata": {},
   "source": [
    "Ans: we will get a keyError KeyError: 'foo'"
   ]
  },
  {
   "cell_type": "markdown",
   "id": "0007f868",
   "metadata": {},
   "source": [
    "### 5.if a dictionary is stored in spam,what is the difference between the expressions 'cat' in spam and 'cat' in spam.keys() ?"
   ]
  },
  {
   "cell_type": "markdown",
   "id": "4354e084",
   "metadata": {},
   "source": [
    "Ans: There is no difference . The operator checks whether a value exits as a key in the dictionary or not"
   ]
  },
  {
   "cell_type": "markdown",
   "id": "f8aea573",
   "metadata": {},
   "source": [
    "### 6.if a dictionary is stored in spam,what is the difference between the expressions 'cat' in spam and 'cat' in spam.values() ?"
   ]
  },
  {
   "cell_type": "markdown",
   "id": "081dbcba",
   "metadata": {},
   "source": [
    "Ans:'cat' in spam checks whether there is a 'cat' key in the dictionary, while 'cat' in spam.values() checks whether there is a value 'cat' for one of the keys in spam."
   ]
  },
  {
   "cell_type": "markdown",
   "id": "80412bf2",
   "metadata": {},
   "source": [
    "### 7.what is a shortcut for the following code ?"
   ]
  },
  {
   "cell_type": "markdown",
   "id": "f68591d6",
   "metadata": {},
   "source": [
    "Ans: spam.setdefault('color','black')"
   ]
  },
  {
   "cell_type": "markdown",
   "id": "697e49ab",
   "metadata": {},
   "source": [
    "### 8.How do you 'pretty print' dictionary values using which modules and function ?"
   ]
  },
  {
   "cell_type": "markdown",
   "id": "946bc85d",
   "metadata": {},
   "source": [
    "Ans: we can pretty print a dictionary using three functions\n",
    "\n",
    "    by using pprint() function of pprint module\n",
    "    Note: pprint() function doesnot prettify nested dictionaries\n",
    "    by using dumps() method of json module\n",
    "    by using dumps() method of yaml module\n"
   ]
  },
  {
   "cell_type": "code",
   "execution_count": null,
   "id": "b2b76765",
   "metadata": {},
   "outputs": [],
   "source": []
  }
 ],
 "metadata": {
  "kernelspec": {
   "display_name": "Python 3 (ipykernel)",
   "language": "python",
   "name": "python3"
  },
  "language_info": {
   "codemirror_mode": {
    "name": "ipython",
    "version": 3
   },
   "file_extension": ".py",
   "mimetype": "text/x-python",
   "name": "python",
   "nbconvert_exporter": "python",
   "pygments_lexer": "ipython3",
   "version": "3.9.7"
  }
 },
 "nbformat": 4,
 "nbformat_minor": 5
}
