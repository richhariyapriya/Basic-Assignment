{
 "cells": [
  {
   "cell_type": "markdown",
   "id": "938b0d25",
   "metadata": {},
   "source": [
    "### 1. Write a Python Program to find sum of Array ?"
   ]
  },
  {
   "cell_type": "code",
   "execution_count": null,
   "id": "df39c572",
   "metadata": {},
   "outputs": [],
   "source": [
    "arr = [10,20,5,9,4,3,2,1]\n",
    "sum = 0\n",
    "for i in range (len(arr)):\n",
    "    sum = sum + arr[i]"
   ]
  }
 ],
 "metadata": {
  "kernelspec": {
   "display_name": "Python 3 (ipykernel)",
   "language": "python",
   "name": "python3"
  },
  "language_info": {
   "codemirror_mode": {
    "name": "ipython",
    "version": 3
   },
   "file_extension": ".py",
   "mimetype": "text/x-python",
   "name": "python",
   "nbconvert_exporter": "python",
   "pygments_lexer": "ipython3",
   "version": "3.9.7"
  }
 },
 "nbformat": 4,
 "nbformat_minor": 5
}
