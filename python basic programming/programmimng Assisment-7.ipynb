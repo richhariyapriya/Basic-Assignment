{
 "cells": [
  {
   "cell_type": "markdown",
   "id": "938b0d25",
   "metadata": {},
   "source": [
    "### 1. Write a Python Program to find sum of Array ?"
   ]
  },
  {
   "cell_type": "code",
   "execution_count": 9,
   "id": "df39c572",
   "metadata": {},
   "outputs": [
    {
     "name": "stdout",
     "output_type": "stream",
     "text": [
      "enter the array: 4,6,4,7\n",
      "21\n"
     ]
    }
   ],
   "source": [
    "arr = eval(input(\"enter the array: \"))\n",
    "Sum = 0\n",
    "\n",
    "for i in range(len(arr)):\n",
    "   Sum = Sum + arr[i]\n",
    "print (Sum)"
   ]
  },
  {
   "cell_type": "markdown",
   "id": "9d16747d",
   "metadata": {},
   "source": [
    "### 2. Write a Python Program to find Largest element in an Array ?"
   ]
  },
  {
   "cell_type": "code",
   "execution_count": 10,
   "id": "04ee8dd9",
   "metadata": {},
   "outputs": [
    {
     "name": "stdout",
     "output_type": "stream",
     "text": [
      "89\n"
     ]
    }
   ],
   "source": [
    "a = [10, 89, 9, 56, 4, 80, 8]\n",
    "max_element = a[0]\n",
    "\n",
    "for i in range(len(a)):\n",
    "  if a[i] > max_element:\n",
    "     max_element = a[i]\n",
    "\n",
    "print (max_element)"
   ]
  },
  {
   "cell_type": "markdown",
   "id": "b92cb72b",
   "metadata": {},
   "source": [
    "### 3. Write a Python Program for array rotation ?"
   ]
  },
  {
   "cell_type": "code",
   "execution_count": 11,
   "id": "72964830",
   "metadata": {},
   "outputs": [
    {
     "name": "stdout",
     "output_type": "stream",
     "text": [
      " 30  40  50  60  70  10  20 "
     ]
    }
   ],
   "source": [
    "#Write a program for array rotation in Python\n",
    "\n",
    "# Python3 program to rotate an array by\n",
    "def leftRotate(arr, d, n):\n",
    "    for i in range(d):\n",
    "        leftRotatebyOne(arr, n)\n",
    " \n",
    "# Function to left Rotate arr[] of size n by 1*/\n",
    "def leftRotatebyOne(arr, n):\n",
    "    temp = arr[0]\n",
    "    for i in range(n-1):\n",
    "        arr[i] = arr[i + 1]\n",
    "    arr[n-1] = temp\n",
    "         \n",
    " \n",
    "# utility function to print an array */\n",
    "def printArray(arr, size):\n",
    "    for i in range(size):\n",
    "        print (\"% d\"% arr[i], end =\" \")\n",
    " \n",
    "  \n",
    "# Driver program to test above functions */\n",
    "arr = [10, 20, 30, 40, 50, 60, 70]\n",
    "leftRotate(arr, 2, 7)\n",
    "printArray(arr, 7)"
   ]
  },
  {
   "cell_type": "code",
   "execution_count": null,
   "id": "1a5d861e",
   "metadata": {},
   "outputs": [],
   "source": [
    "\n",
    "4. Write a Python Program to Split the array and add the first part to the end ?\n"
   ]
  }
 ],
 "metadata": {
  "kernelspec": {
   "display_name": "Python 3 (ipykernel)",
   "language": "python",
   "name": "python3"
  },
  "language_info": {
   "codemirror_mode": {
    "name": "ipython",
    "version": 3
   },
   "file_extension": ".py",
   "mimetype": "text/x-python",
   "name": "python",
   "nbconvert_exporter": "python",
   "pygments_lexer": "ipython3",
   "version": "3.9.7"
  }
 },
 "nbformat": 4,
 "nbformat_minor": 5
}
