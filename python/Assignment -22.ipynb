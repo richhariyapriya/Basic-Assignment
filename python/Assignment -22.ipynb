{
 "cells": [
  {
   "cell_type": "markdown",
   "id": "4106051f",
   "metadata": {},
   "source": [
    "### 1. What is the result of the code, and explain?\n",
    "\n"
   ]
  },
  {
   "cell_type": "markdown",
   "id": "3b792d6c",
   "metadata": {},
   "source": [
    "#### >>> X = 'iNeuron'\n",
    "#### >>> def func():\n",
    "#### print(X)\n",
    "\n",
    "\n",
    "#### >>> func()\n",
    "\n"
   ]
  },
  {
   "cell_type": "code",
   "execution_count": 1,
   "id": "892de51d",
   "metadata": {},
   "outputs": [
    {
     "name": "stdout",
     "output_type": "stream",
     "text": [
      "iNeuron\n"
     ]
    }
   ],
   "source": [
    "X = 'iNeuron'\n",
    "def func():\n",
    "    print(X)\n",
    "func()\n",
    "\n",
    "\n",
    "#Ans. The global variables are accessible in side the functions in python. \n",
    "#But we can not access function variable out side function. \n",
    "#Since x is global variable we are able to print it in side the function solution : 'iNeuron'\n",
    "     \n"
   ]
  },
  {
   "cell_type": "markdown",
   "id": "bc00ebb6",
   "metadata": {},
   "source": [
    "### 2. What is the result of the code, and explain?\n",
    "\n",
    "\n",
    "##### >>> X = 'iNeuron'\n",
    "##### >>> def func():\n",
    "##### X = 'NI!'\n",
    "\n",
    "\n",
    "##### >>> func()\n",
    "##### >>> print(X)\n"
   ]
  },
  {
   "cell_type": "code",
   "execution_count": 2,
   "id": "870702db",
   "metadata": {},
   "outputs": [
    {
     "name": "stdout",
     "output_type": "stream",
     "text": [
      "iNeuron\n"
     ]
    }
   ],
   "source": [
    "\n",
    "X = 'iNeuron'\n",
    "def func():\n",
    "    X = 'NI!'\n",
    "\n",
    "func()\n",
    "print(X)\n",
    "\n",
    "#Ans. The global variables are access in side the functions in python. But we can not access function variable out side function.\n",
    "# Since x is golbal variable we are able to print it out side of the function solution = 'iNeuron'"
   ]
  },
  {
   "cell_type": "markdown",
   "id": "56781993",
   "metadata": {},
   "source": [
    "### 3. What does this code print, and why?\n",
    "\n",
    "\n",
    "##### >>> X = 'iNeuron'\n",
    "##### >>> def func():\n",
    "##### X = 'NI'\n",
    "##### print(X)\n",
    "\n",
    "\n",
    "##### >>> func()\n",
    "##### >>> print(X)\n"
   ]
  },
  {
   "cell_type": "code",
   "execution_count": 3,
   "id": "4a1693b8",
   "metadata": {},
   "outputs": [
    {
     "name": "stdout",
     "output_type": "stream",
     "text": [
      "NI!\n",
      "iNeuron\n"
     ]
    }
   ],
   "source": [
    "X = 'iNeuron'\n",
    "def func():\n",
    "    X = 'NI!'\n",
    "    print(X)\n",
    "\n",
    "func()\n",
    "print(X)\n",
    "\n",
    "#Ans. The global variables are access in side the functions in python. But we can not access function variable out side function.\n",
    "# X is updated with 'NI' which is local to function and its immutable. its name space is with in the function solution = 'NI!', 'iNeuron'\n",
    "     "
   ]
  },
  {
   "cell_type": "markdown",
   "id": "eab65da0",
   "metadata": {},
   "source": [
    "### 4. What output does this code produce? Why?\n",
    "\n",
    "\n",
    "##### >>> X = 'iNeuron'\n",
    "##### >>> def func():\n",
    "##### global X\n",
    "##### X = 'NI'\n",
    "\n",
    "\n",
    "##### >>> func()\n",
    "##### >>> print(X)\n",
    "\n"
   ]
  },
  {
   "cell_type": "code",
   "execution_count": 4,
   "id": "81deec90",
   "metadata": {},
   "outputs": [
    {
     "name": "stdout",
     "output_type": "stream",
     "text": [
      "NI!\n",
      "NI!\n"
     ]
    }
   ],
   "source": [
    "\n",
    "X = 'iNeuron'\n",
    "def func():\n",
    "    global X\n",
    "    X = 'NI!'\n",
    "    print(X)\n",
    "\n",
    "func()\n",
    "print(X)\n",
    "#Ans. since the X in side function is made Global, it will be accesible out side of the function too. \n",
    "#now X will have new value.\n",
    "\n",
    " #solution : 'NI!', 'NI!'\n",
    "     "
   ]
  },
  {
   "cell_type": "markdown",
   "id": "03a4be26",
   "metadata": {},
   "source": [
    "### 5. What about this code—what’s the output, and why?\n",
    "\n",
    "\n",
    "##### >>> X = 'iNeuron'\n",
    "##### >>> def func():\n",
    "##### X = 'NI'\n",
    "##### def nested():\n",
    "##### print(X)\n",
    "##### nested()\n",
    "\n",
    "\n",
    "##### >>> func()\n",
    "##### >>> X\n"
   ]
  },
  {
   "cell_type": "code",
   "execution_count": 5,
   "id": "1eadc16b",
   "metadata": {},
   "outputs": [
    {
     "name": "stdout",
     "output_type": "stream",
     "text": [
      "iNeuron\n"
     ]
    },
    {
     "data": {
      "text/plain": [
       "'iNeuron'"
      ]
     },
     "execution_count": 5,
     "metadata": {},
     "output_type": "execute_result"
    }
   ],
   "source": [
    "X = 'iNeuron'\n",
    "def func():\n",
    "    X = 'NI'\n",
    "def nested():\n",
    "    print(X)\n",
    "    \n",
    "nested()\n",
    "func()\n",
    "X\n",
    "\n",
    "#Ans. the nested() function will print 'iNeuron', Then func() does not display anything,\n",
    "# and x ='NI' is not accessible out \n",
    "#side the function.\n",
    "#Solution : 'iNeuron'"
   ]
  },
  {
   "cell_type": "markdown",
   "id": "e37aae4d",
   "metadata": {},
   "source": [
    "### 6. How about this code: what is its output in Python 3, and explain?\n",
    "\n",
    "\n",
    "###### >>> def func():\n",
    "##### X = 'NI'\n",
    "##### def nested():\n",
    "##### nonlocal X\n",
    "##### X = 'Spam'\n",
    "##### nested()\n",
    "##### print(X)\n",
    "\n",
    "\n",
    "##### >>> func()\n"
   ]
  },
  {
   "cell_type": "code",
   "execution_count": null,
   "id": "e4f5d201",
   "metadata": {},
   "outputs": [],
   "source": []
  }
 ],
 "metadata": {
  "kernelspec": {
   "display_name": "Python 3 (ipykernel)",
   "language": "python",
   "name": "python3"
  },
  "language_info": {
   "codemirror_mode": {
    "name": "ipython",
    "version": 3
   },
   "file_extension": ".py",
   "mimetype": "text/x-python",
   "name": "python",
   "nbconvert_exporter": "python",
   "pygments_lexer": "ipython3",
   "version": "3.9.7"
  }
 },
 "nbformat": 4,
 "nbformat_minor": 5
}
