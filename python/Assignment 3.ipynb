{
 "cells": [
  {
   "cell_type": "markdown",
   "id": "d79dbd9a",
   "metadata": {},
   "source": [
    " ### 1.Why are functions advantageous to have in your programs?"
   ]
  },
  {
   "cell_type": "markdown",
   "id": "e6247220",
   "metadata": {},
   "source": [
    "Functions reduce the need for duplicate code."
   ]
  },
  {
   "cell_type": "markdown",
   "id": "cf9d1c71",
   "metadata": {},
   "source": [
    "### 2. When does the code in a function run: when it's specified or when it's called?"
   ]
  },
  {
   "cell_type": "markdown",
   "id": "88c8eeae",
   "metadata": {},
   "source": [
    "A function can be called anywhere after the function has been declared. By itself, a function does nothing. But, when you need to use a function, you can call it, and the code within the function will be executed."
   ]
  },
  {
   "cell_type": "markdown",
   "id": "acbc959a",
   "metadata": {},
   "source": [
    "### 3. What statement creates a function?"
   ]
  },
  {
   "cell_type": "markdown",
   "id": "685cdee1",
   "metadata": {},
   "source": [
    "A statement that creates a new function, specifying its name, parameters, and the statements it executes."
   ]
  },
  {
   "cell_type": "markdown",
   "id": "faf1063a",
   "metadata": {},
   "source": [
    "### 4.What is the difference between a function and a function call?"
   ]
  },
  {
   "cell_type": "markdown",
   "id": "61cb1917",
   "metadata": {},
   "source": [
    "A function is procedure to achieve a particular result while function call is using this function to achive that task."
   ]
  },
  {
   "cell_type": "markdown",
   "id": "88fff181",
   "metadata": {},
   "source": []
  },
  {
   "cell_type": "markdown",
   "id": "dc6fd3f4",
   "metadata": {},
   "source": [
    "### 5. How many global scopes are there in a Python program? How many local scopes?"
   ]
  },
  {
   "cell_type": "markdown",
   "id": "fbc7e052",
   "metadata": {},
   "source": [
    " There's only one global Python scope per program execution. This scope remains in existence until the program terminates and all its names are forgotten."
   ]
  },
  {
   "cell_type": "markdown",
   "id": "706179e3",
   "metadata": {},
   "source": [
    "### 6. What happens to variables in a local scope when the function call returns?"
   ]
  },
  {
   "cell_type": "markdown",
   "id": "006c67ca",
   "metadata": {},
   "source": [
    "When the execution of the function terminates (returns), the local variables are destroyed. Codelens helps you visualize this because the local variables disappear after the function returns."
   ]
  },
  {
   "cell_type": "markdown",
   "id": "651d1b9a",
   "metadata": {},
   "source": [
    "### 7. What is the concept of a return value? Is it possible to have a return value in an expression?"
   ]
  },
  {
   "cell_type": "markdown",
   "id": "29c96550",
   "metadata": {},
   "source": [
    "n general, a function takes arguments (if any), performs some operations, and returns a value (or object). The value that a function returns to the caller is generally known as the function's return value. All Python functions have a return value, either explicit or implicit."
   ]
  },
  {
   "cell_type": "markdown",
   "id": "6469e879",
   "metadata": {},
   "source": [
    "### 8. If a function does not have a return statement, what is the return value of a call to that function?"
   ]
  },
  {
   "cell_type": "markdown",
   "id": "b4b29fa9",
   "metadata": {},
   "source": [
    "If no return statement appears in a function definition, control automatically returns to the calling function after the last statement of the called function is executed. \n",
    "In this case, the return value of the called function is undefined."
   ]
  },
  {
   "cell_type": "markdown",
   "id": "6e91e891",
   "metadata": {},
   "source": [
    "### 9. How do you make a function variable refer to the global variable?"
   ]
  },
  {
   "cell_type": "markdown",
   "id": "2f096179",
   "metadata": {},
   "source": [
    "If you want to refer to a global variable in a function, you can use the global keyword to declare which variables are global."
   ]
  },
  {
   "cell_type": "markdown",
   "id": "319e189f",
   "metadata": {},
   "source": [
    "### 10. What is the data type of None?"
   ]
  },
  {
   "cell_type": "markdown",
   "id": "c44707d7",
   "metadata": {},
   "source": [
    "The None keyword is used to define a null value, or no value at all. \n",
    "None is not the same as 0, False, or an empty string. \n",
    "None is a data type of its own (NoneType) and only None can be None."
   ]
  },
  {
   "cell_type": "markdown",
   "id": "855b2107",
   "metadata": {},
   "source": [
    "### 11. What does the sentence import areallyourpetsnamederic do?"
   ]
  },
  {
   "cell_type": "markdown",
   "id": "b987ac6b",
   "metadata": {},
   "source": [
    "That import statement imports a module named areallyourpetsnamederic."
   ]
  },
  {
   "cell_type": "markdown",
   "id": "625bce0c",
   "metadata": {},
   "source": [
    "### 12. If you had a bacon() feature in a spam module, what would you call it after importing spam?"
   ]
  },
  {
   "cell_type": "markdown",
   "id": "eae82ec3",
   "metadata": {},
   "source": [
    "This function can be called with spam. bacon()."
   ]
  },
  {
   "cell_type": "markdown",
   "id": "b9ba3a4e",
   "metadata": {},
   "source": [
    "### 13. What can you do to save a programme from crashing if it encounters an error?"
   ]
  },
  {
   "cell_type": "markdown",
   "id": "38386be5",
   "metadata": {},
   "source": [
    "When it encounters an error, the control is passed to the except block, skipping the code in between.\n",
    "As seen in the above code, we have moved our code inside a try and except statement. \n",
    "Try running the program and it should throw an error message instead of crashing the program"
   ]
  },
  {
   "cell_type": "markdown",
   "id": "efea610b",
   "metadata": {},
   "source": [
    "### 14. What is the purpose of the try clause? What is the purpose of the except clause?\n",
    "\n"
   ]
  },
  {
   "cell_type": "markdown",
   "id": "947addd6",
   "metadata": {},
   "source": [
    "In the try clause, all statements are executed until an exception is encountered. \n",
    "except is used to catch and handle the exception(s) that are encountered in the try clause. \n",
    "else lets you code sections that should run only when no exceptions are encountered in the try clause."
   ]
  }
 ],
 "metadata": {
  "kernelspec": {
   "display_name": "Python 3 (ipykernel)",
   "language": "python",
   "name": "python3"
  },
  "language_info": {
   "codemirror_mode": {
    "name": "ipython",
    "version": 3
   },
   "file_extension": ".py",
   "mimetype": "text/x-python",
   "name": "python",
   "nbconvert_exporter": "python",
   "pygments_lexer": "ipython3",
   "version": "3.9.7"
  }
 },
 "nbformat": 4,
 "nbformat_minor": 5
}
