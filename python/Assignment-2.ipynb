{
 "cells": [
  {
   "cell_type": "markdown",
   "id": "fda64b6a",
   "metadata": {},
   "source": [
    "## What are the two values of the Boolean data type? How do you write them\n",
    " There are two types of Booleans data type:-\n",
    " * True (1)\n",
    " * False(0)"
   ]
  },
  {
   "cell_type": "markdown",
   "id": "aacb0d54",
   "metadata": {},
   "source": [
    "## What are the three different types of Boolean operators?\n",
    " There are three different types od Boolean operator are:-        \n",
    " * And\n",
    " * OR\n",
    " * Not"
   ]
  },
  {
   "cell_type": "markdown",
   "id": "35dae5e5",
   "metadata": {},
   "source": [
    "# Make a list of each Boolean operator's\n",
    "## truth tables (i.e. every possible combination of Boolean values for the operator and what it evaluate ).\n",
    "\n",
    "### AND Truth Table\n",
    " <table style=\"border: 1px solid black;border-collapse: collapse;width: 100%;\">\n",
    "  <tr>\n",
    "    <th>X</th>\n",
    "    <th>and</th>\n",
    "    <th>y</th>\n",
    "    <th>Returns</th>  \n",
    "  </tr>\n",
    "  <tr>     \n",
    "    <td>True</td>\n",
    "    <td>and</td>\n",
    "    <td>True</td>\n",
    "    <td>True</td> \n",
    "  </tr>\n",
    "  <tr>      \n",
    "    <td>True</td>\n",
    "    <td>and</td>\n",
    "    <td>False</td>\n",
    "    <td>False</td>\n",
    "  </tr>\n",
    "  <tr>      \n",
    "    <td>False</td>\n",
    "    <td>and</td>\n",
    "    <td>True</td>\n",
    "    <td>False</td> \n",
    "  </tr>\n",
    "  <tr>      \n",
    "    <td>False</td>\n",
    "    <td>and</td>\n",
    "    <td>False</td>\n",
    "    <td>False</td>\n",
    "  </tr>    \n",
    "</table> \n",
    "\n",
    "\n",
    "\n",
    "\n",
    "\n",
    "### OR Truth Table\n",
    "<table style=\"border: 1px solid black;border-collapse: collapse;width: 100%;\">\n",
    "  <tr>\n",
    "    <th>X</th>\n",
    "    <th>or</th>\n",
    "    <th>y</th>\n",
    "    <th>Returns</th>  \n",
    "  </tr>\n",
    "  <tr>   \n",
    "    <td>True</td>\n",
    "    <td>or</td>\n",
    "    <td>True</td>\n",
    "    <td>True</td> \n",
    "  </tr>\n",
    "  <tr> \n",
    "    <td>True</td>\n",
    "    <td>or</td>\n",
    "    <td>False</td>\n",
    "    <td>True</td>\n",
    "  </tr>\n",
    "  <tr>    \n",
    "    <td>False</td>\n",
    "    <td>or</td>\n",
    "    <td>True</td>\n",
    "    <td>True</td> \n",
    "  </tr>\n",
    "  <tr> \n",
    "    <td>False</td>\n",
    "    <td>or</td>\n",
    "    <td>False</td>\n",
    "    <td>False</td>\n",
    "  </tr>    \n",
    "</table> \n",
    "\n",
    "\n",
    "\n",
    "\n",
    "\n",
    "\n",
    "\n",
    "### NOT Truth Table\n",
    "<table style=\"border: 1px solid black;border-collapse: collapse;width: 100%;\">\n",
    "  <tr>\n",
    "    <th>not</th>\n",
    "    <th>X</th>\n",
    "    <th>Returns</th>  \n",
    "  </tr>\n",
    "  <tr>  \n",
    "    <td>not</td>\n",
    "    <td>True</td>\n",
    "    <td>False</td> \n",
    "  </tr>\n",
    "  <tr> \n",
    "    <td>not</td>\n",
    "    <td>False</td>\n",
    "    <td>True</td>\n",
    "  </tr>\n",
    "</table> "
   ]
  },
  {
   "cell_type": "markdown",
   "id": "7a22ecae",
   "metadata": {},
   "source": [
    "## 5 .What are the six comparison operators?\t\n",
    "### Python has six comparison operators, which are as follows:\n",
    "\n",
    " * Less than ( < )\n",
    " * Less than or equal to ( <= )\n",
    " * Greater than ( > )\n",
    " * Greater than or equal to ( >= )\n",
    " * Equal to ( == )\n",
    " * Not equal to ( != )"
   ]
  },
  {
   "cell_type": "markdown",
   "id": "613c8fbe",
   "metadata": {},
   "source": [
    "## 6.How do you tell the difference between the equal to and assignment operators?\n",
    "## Describe a condition and when you would use one.\n",
    "\n",
    "The '=' is the so-called assignment operator and is used to assign the result of the expression on the right side of the operator to the variable on the left side. \n",
    "The '==' is the so-called equality comparison operator and is used to check whether the two expressions on both sides are equal or not."
   ]
  },
  {
   "cell_type": "markdown",
   "id": "ab8ff995",
   "metadata": {},
   "source": [
    "## 7. Identify the three blocks in this code:\n"
   ]
  },
  {
   "cell_type": "code",
   "execution_count": 1,
   "id": "5cb1ab30",
   "metadata": {},
   "outputs": [
    {
     "name": "stdout",
     "output_type": "stream",
     "text": [
      "ham\n",
      "spam\n",
      "spam\n"
     ]
    }
   ],
   "source": [
    "spam = 0\n",
    "if spam == 10:\n",
    "    print('eggs')\n",
    "if spam > 5:\n",
    "    print('bacon')\n",
    "else:\n",
    "    print('ham')\n",
    "    print('spam')\n",
    "    print('spam')\n"
   ]
  },
  {
   "cell_type": "markdown",
   "id": "5802e89c",
   "metadata": {},
   "source": [
    "### 8. Write code that prints Hello if 1 is stored in spam, prints Howdy if 2 is stored in spam, and prints Greetings! if anything else is stored in spam."
   ]
  },
  {
   "cell_type": "code",
   "execution_count": 20,
   "id": "1a84278a",
   "metadata": {},
   "outputs": [],
   "source": [
    "spam =23"
   ]
  },
  {
   "cell_type": "code",
   "execution_count": null,
   "id": "b2e38312",
   "metadata": {},
   "outputs": [],
   "source": [
    "if spam == 1: \n",
    "    print(\"hello\")    \n",
    "elif spam == 2:   \n",
    "    print(\"Howdy\")     \n",
    "else:    \n",
    "    print(\"Greetings\")   \n",
    "    "
   ]
  },
  {
   "cell_type": "markdown",
   "id": "ce0323cd",
   "metadata": {},
   "source": [
    "## 9.If your programme is stuck in an endless loop, what keys you’ll press?\n",
    "An infinite loop occurs when a program keeps executing within one loop, never leaving it. To exit out of infinite loops on the command line, press CTRL + C . Save the program and run it: ."
   ]
  },
  {
   "cell_type": "markdown",
   "id": "dac6755b",
   "metadata": {},
   "source": [
    "## 10.How can you tell the difference between break and continue\n",
    "\n",
    "### Difference Between the break and continue statement:\n",
    "<table style=\"border: 1px solid black;border-collapse: collapse;\">\n",
    "    <tr>\n",
    "    <th>Break statement</th>\n",
    "    <th>continue statement</th>\n",
    "    </tr>\n",
    "    <tr>     \n",
    "    <td>The Break statement is used to exit from the loop constructs.</td>\n",
    "    <td>The continue statement is not used to exit from the loop constructs</td>\n",
    "    </tr>\n",
    "    <tr>\n",
    "    <td>The break statement is usually used with the switch statement, and it can also use it within the while loop, do-while loop, or the for-loop.</td>\n",
    "    <td>The continue statement is not used with the switch statement, but it can be used within the while loop, do-while loop, or for-loop.</td> \n",
    "  </tr>\n",
    "  <tr >\n",
    "  <td>When a break statement is encountered then the control is exited from the loop construct immediately.<td>\n",
    "  <td>When the continue statement is encountered then the control automatically passed from the beginning of the loop statement.<td>\n",
    "       </tr>\n",
    "    <tr>\n",
    "     <td>Syntax:break;<td>\n",
    "     <td>Syntax:continue;<td>\n",
    "    </tr>\n",
    "       </table>"
   ]
  },
  {
   "cell_type": "markdown",
   "id": "e6d37811",
   "metadata": {},
   "source": [
    "## 11.In a for loop,what is the difference between range(10), range(0, 10),and range(0, 10, 1)?"
   ]
  },
  {
   "cell_type": "code",
   "execution_count": 8,
   "id": "02e4e23b",
   "metadata": {},
   "outputs": [
    {
     "name": "stdout",
     "output_type": "stream",
     "text": [
      "0123456789"
     ]
    }
   ],
   "source": [
    "for i in range(10):\n",
    "    print(i , end=\"\")"
   ]
  },
  {
   "cell_type": "markdown",
   "id": "183a1225",
   "metadata": {},
   "source": [
    "#### This example shows how to print the values from 0-9 using range().\n",
    "\n",
    "The value used in range is 10, so the output is 0 1 2 3 4 5 6 7 8 9\n",
    "\n",
    "Since the start is not given the start is considered as 0 and the last value is given till 9. The last value is always 1 less than the given value i.e. stop-1."
   ]
  },
  {
   "cell_type": "code",
   "execution_count": 9,
   "id": "6bbdb2ab",
   "metadata": {},
   "outputs": [
    {
     "name": "stdout",
     "output_type": "stream",
     "text": [
      "0 1 2 3 4 5 6 7 8 9 "
     ]
    }
   ],
   "source": [
    "for i in range(0, 10):\n",
    "    print(i, end =\" \")"
   ]
  },
  {
   "cell_type": "markdown",
   "id": "b32d9441",
   "metadata": {},
   "source": [
    "#### In the code, the start value is 0, and stop value is 10. Here the start index is 0, so the sequence of numbers will start from 0 till the \n",
    "stop value. The last value in the sequence will be 1 less than the stop value 10-1 = 9. "
   ]
  },
  {
   "cell_type": "code",
   "execution_count": 10,
   "id": "d48abeff",
   "metadata": {},
   "outputs": [
    {
     "name": "stdout",
     "output_type": "stream",
     "text": [
      "0 1 2 3 4 5 6 7 8 9 "
     ]
    }
   ],
   "source": [
    "for i in range(0, 10, 1):\n",
    "    print(i, end =\" \")"
   ]
  },
  {
   "cell_type": "markdown",
   "id": "8a3fafda",
   "metadata": {},
   "source": [
    "### 12. Write a short program that prints the numbers 1 to 10 using a for loop. Then write an equivalent program that prints the numbers 1 to 10 using a while loop."
   ]
  },
  {
   "cell_type": "code",
   "execution_count": 8,
   "id": "355ad5b6",
   "metadata": {},
   "outputs": [
    {
     "name": "stdout",
     "output_type": "stream",
     "text": [
      "1\n",
      "2\n",
      "3\n",
      "4\n",
      "5\n",
      "6\n",
      "7\n",
      "8\n",
      "9\n",
      "10\n"
     ]
    }
   ],
   "source": [
    "x = 0\n",
    "for x in range(1,11):\n",
    "\t\tprint(x)\n"
   ]
  },
  {
   "cell_type": "markdown",
   "id": "4bcb29cb",
   "metadata": {},
   "source": [
    "13. If you had a function named bacon() inside a module named spam, how would you call it after importing spam?"
   ]
  },
  {
   "cell_type": "code",
   "execution_count": null,
   "id": "3141b9a6",
   "metadata": {},
   "outputs": [],
   "source": [
    "spam = 0\n",
    "if spam == 10:\n",
    "print('eggs')\n",
    "if spam > 5:\n",
    "print('bacon')\n",
    "else:\n",
    "print('ham')\n",
    "print('spam')\n",
    "print('spam')\n"
   ]
  }
 ],
 "metadata": {
  "kernelspec": {
   "display_name": "Python 3 (ipykernel)",
   "language": "python",
   "name": "python3"
  },
  "language_info": {
   "codemirror_mode": {
    "name": "ipython",
    "version": 3
   },
   "file_extension": ".py",
   "mimetype": "text/x-python",
   "name": "python",
   "nbconvert_exporter": "python",
   "pygments_lexer": "ipython3",
   "version": "3.9.7"
  }
 },
 "nbformat": 4,
 "nbformat_minor": 5
}
