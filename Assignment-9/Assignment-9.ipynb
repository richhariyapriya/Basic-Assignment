{
 "cells": [
  {
   "cell_type": "markdown",
   "id": "b5afbbc9",
   "metadata": {},
   "source": [
    "### 1. To what does a relative path refer?"
   ]
  },
  {
   "cell_type": "markdown",
   "id": "d57a96ee",
   "metadata": {},
   "source": [
    "A relative path refers to a location that is relative to a current directory. Relative paths make use of two special symbols, a dot (.) and a double-dot (..), which translate into the current directory and the parent directory. Double dots are used for moving up in the hierarchy."
   ]
  },
  {
   "cell_type": "markdown",
   "id": "549cc6ff",
   "metadata": {},
   "source": [
    "### 2. What does an absolute path start with your operating system?"
   ]
  },
  {
   "cell_type": "markdown",
   "id": "4e43d6b4",
   "metadata": {},
   "source": [
    "An absolute path refers to the complete details needed to locate a file or folder, starting from the root element and ending with the other subdirectories. Absolute paths are used in websites and operating systems for locating files and folders."
   ]
  },
  {
   "cell_type": "markdown",
   "id": "22f112e2",
   "metadata": {},
   "source": [
    "### 3. What do the functions os.getcwd() and os.chdir() do?"
   ]
  },
  {
   "cell_type": "markdown",
   "id": "0cbdae4e",
   "metadata": {},
   "source": [
    "getcwd() : CWD stands for Current Working Directory. This function allows you to see what your current working directory is. chdir(\"path-to-dir\") : Short for CHange DIRectory, this function allows you to set the current working directory to a path of your choice"
   ]
  },
  {
   "cell_type": "markdown",
   "id": "0e17b41e",
   "metadata": {},
   "source": [
    "### 4. What are the . and .. folders?"
   ]
  },
  {
   "cell_type": "markdown",
   "id": "d0193f96",
   "metadata": {},
   "source": [
    "Ans: . Represents the Current Directory Whereas .. Represents the Parent Directory of the Current Directory\n",
    "For Example: if the below path is my absolute path:\n",
    "C:\\\\Users\\\\priya\\\\Documents\\\\iNeuron-Assignments\\\\Python Basic Assignment\n",
    "Then . represents the path C:\\\\Users\\\\priya\\\\Documents\\\\iNeuron-Assignments\\\\Python Basic Assignment\n",
    "Where as .. represents the path C:\\\\Users\\\\priya\\\\Documents\\\\iNeuron-Assignments"
   ]
  },
  {
   "cell_type": "markdown",
   "id": "40bc6677",
   "metadata": {},
   "source": [
    "### 5. In C:\\bacon\\eggs\\spam.txt, which part is the dir name, and which part is the base name?"
   ]
  },
  {
   "cell_type": "markdown",
   "id": "760fb312",
   "metadata": {},
   "source": [
    "In C:\\bacon\\eggs\\spam. txt, which part is the dir name, and which part is the base name? C:\\bacon\\eggs is the dir name, while spam. txt is the base name."
   ]
  },
  {
   "cell_type": "markdown",
   "id": "9f867061",
   "metadata": {},
   "source": [
    "### 6. What are the three “mode” arguments that can be passed to the open() function?"
   ]
  },
  {
   "cell_type": "markdown",
   "id": "1d395f1f",
   "metadata": {},
   "source": [
    " <table style=\"border: 1px solid black;border-collapse: collapse;width: 100%;\">\n",
    "  <tr>\n",
    "    <th>Mode</th>\n",
    "    <th>Opens a file for reading. (default)</th>\n",
    "   </tr>\n",
    "    <tr>\n",
    "        <th>w</th>\n",
    "        <th>Opens a file for writing. Creates a new file if it does not exist or truncates the file if it exists.</th>\n",
    "     </tr>\n",
    "    <tr>\n",
    "        <th>x</th>\n",
    "        <th>Opens a file for exclusive creation. If the file already exists, the operation fails.</th>\n",
    "     </tr>\n",
    "    <tr>\n",
    "        <th>a</th>\n",
    "        <th>Opens a file for appending at the end of the file without truncating it. Creates a new file if it does not exist.</th>\n",
    "    </tr>\n",
    "    <tr>\n",
    "        <th>t</th>\n",
    "        <th>Opens in text mode. (default)</th>\n",
    "    </tr>\n",
    "    <tr>\n",
    "    <th>b<th>\n",
    "       <th>Opens in binary mode.</th>\n",
    "    </tr>\n",
    "    <tr>\n",
    "        <th>+</th>\n",
    "        <th>Opens a file for updating (reading and writing)</th>\n",
    "    </tr>"
   ]
  },
  {
   "cell_type": "markdown",
   "id": "5ad3c916",
   "metadata": {},
   "source": [
    "### 7. What happens if an existing file is opened in write mode?"
   ]
  },
  {
   "cell_type": "markdown",
   "id": "40cb87d7",
   "metadata": {},
   "source": [
    "To open a file in write mode, “w” is specified. When mode “w” is specified, it creates an empty file for output operations. What if the file already exists? If a file with the same name already exists, its contents are discarded and the file is treated as a new empty file."
   ]
  },
  {
   "cell_type": "markdown",
   "id": "77c92e98",
   "metadata": {},
   "source": [
    "### 8. How do you tell the difference between read() and readlines()?"
   ]
  },
  {
   "cell_type": "markdown",
   "id": "3b1293f2",
   "metadata": {},
   "source": [
    "The main difference is that read() will read the whole file at once and then print out the first characters that take up as many bytes as you specify in the parenthesis versus the readline() that will read and print out only the first characters that take up as many bytes as you specify in the parenthesis."
   ]
  },
  {
   "cell_type": "markdown",
   "id": "a71f9e99",
   "metadata": {},
   "source": [
    "### 9. What data structure does a shelf value resemble?"
   ]
  },
  {
   "cell_type": "markdown",
   "id": "204ea319",
   "metadata": {},
   "source": [
    "What data structure does a shelf value resemble? A shelf value resembles a dictionary value; it has keys and values, along with keys() and values() methods that work similarly to the dictionary methods of the same names."
   ]
  },
  {
   "cell_type": "code",
   "execution_count": null,
   "id": "c725a780",
   "metadata": {},
   "outputs": [],
   "source": []
  }
 ],
 "metadata": {
  "kernelspec": {
   "display_name": "Python 3 (ipykernel)",
   "language": "python",
   "name": "python3"
  },
  "language_info": {
   "codemirror_mode": {
    "name": "ipython",
    "version": 3
   },
   "file_extension": ".py",
   "mimetype": "text/x-python",
   "name": "python",
   "nbconvert_exporter": "python",
   "pygments_lexer": "ipython3",
   "version": "3.9.7"
  }
 },
 "nbformat": 4,
 "nbformat_minor": 5
}
