{
 "cells": [
  {
   "cell_type": "markdown",
   "id": "6ea2d3eb",
   "metadata": {},
   "source": [
    "### 1. What is the name of the feature responsible for generating Regex objects?"
   ]
  },
  {
   "cell_type": "markdown",
   "id": "88e15130",
   "metadata": {},
   "source": [
    "Raw strings are used so that backslashes do not have to be escaped."
   ]
  },
  {
   "cell_type": "markdown",
   "id": "3c744a86",
   "metadata": {},
   "source": [
    "### 3. What is the return value of the search() method?"
   ]
  },
  {
   "cell_type": "markdown",
   "id": "a3e4c661",
   "metadata": {},
   "source": [
    "The re.search() function takes two parameters and returns a match object if there is a match. If there is more than one match, only the first occurrence of the match will be returned. If no matches are found, the value None is returned"
   ]
  },
  {
   "cell_type": "markdown",
   "id": "5565a736",
   "metadata": {},
   "source": [
    "### 4. From a Match item, how do you get the actual strings that match the pattern?"
   ]
  },
  {
   "cell_type": "markdown",
   "id": "22459262",
   "metadata": {},
   "source": [
    "The group() method returns strings of the matched text."
   ]
  },
  {
   "cell_type": "markdown",
   "id": "6a82b298",
   "metadata": {},
   "source": [
    "### 5. In the regex which created from the r'(\\d\\d\\d)-(\\d\\d\\d-\\d\\d\\d\\d)', what does group zero cover? Group 2? Group 1?"
   ]
  },
  {
   "cell_type": "markdown",
   "id": "7e35e3d1",
   "metadata": {},
   "source": [
    "Group 0 is the entire match, group 1 covers the first set of parentheses, and group 2 covers the second set of parentheses."
   ]
  },
  {
   "cell_type": "markdown",
   "id": "dada3e5c",
   "metadata": {},
   "source": [
    "### 6. In standard expression syntax, parentheses and intervals have distinct meanings. How can you tell a regex that you want it to fit real parentheses and periods?"
   ]
  },
  {
   "cell_type": "markdown",
   "id": "d68c0f37",
   "metadata": {},
   "source": [
    "Periods and parentheses can be escaped with a backslash: \\., \\(, and \\)."
   ]
  },
  {
   "cell_type": "markdown",
   "id": "fdbc131a",
   "metadata": {},
   "source": [
    "### 7. The findall() method returns a string list or a list of string tuples. What causes it to return one of the two options?"
   ]
  },
  {
   "cell_type": "markdown",
   "id": "17997f9f",
   "metadata": {},
   "source": [
    "If the regex has no groups, a list of strings is returned. If the regex has groups, a list of tuples of strings is returned."
   ]
  },
  {
   "cell_type": "markdown",
   "id": "166b6f68",
   "metadata": {},
   "source": [
    "### 8. In standard expressions, what does the | character mean?"
   ]
  },
  {
   "cell_type": "markdown",
   "id": "7af68701",
   "metadata": {},
   "source": [
    "The | character signifies matching \"either, or\" between two groups."
   ]
  },
  {
   "cell_type": "markdown",
   "id": "1d3a5b40",
   "metadata": {},
   "source": [
    "### 9. In regular expressions, what does the character stand for?"
   ]
  },
  {
   "cell_type": "markdown",
   "id": "9a8af744",
   "metadata": {},
   "source": [
    "Character: All characters, except those having special meaning in regex, matches themselves. E.g., the regex x matches substring \"x\" ; regex 9 matches \"9\" ; regex = matches \"=\" ; and regex @ matches \"@\" ."
   ]
  },
  {
   "cell_type": "markdown",
   "id": "45f322e6",
   "metadata": {},
   "source": [
    "### 10.In regular expressions, what is the difference between the + and * characters?"
   ]
  },
  {
   "cell_type": "markdown",
   "id": "898a7f48",
   "metadata": {},
   "source": [
    "represents any single character (usually excluding the newline character), while * is a quantifier meaning zero or more of the preceding regex atom (character or group).The Regular expression . * will tell the computer that any character can be used any number of times.\n",
    "while the plus quantifier(+) indicate that the preceding expression MUST match at least one time or multiple times and it is the same as {1,}So the difference is that the empty string would match the second expression but not the first."
   ]
  },
  {
   "cell_type": "markdown",
   "id": "89e77efe",
   "metadata": {},
   "source": [
    "### 11. What is the difference between {4} and {4,5} in regular expression?"
   ]
  },
  {
   "cell_type": "markdown",
   "id": "2486f089",
   "metadata": {},
   "source": [
    "{4} is saying \"match this pattern four times.\" {4,5} means \"match this pattern four to five times.\""
   ]
  },
  {
   "cell_type": "markdown",
   "id": "c6812998",
   "metadata": {},
   "source": [
    "### 12. What do you mean by the \\d, \\w, and \\s shorthand character classes signify in regular expressions?"
   ]
  },
  {
   "cell_type": "markdown",
   "id": "9cbcf1ed",
   "metadata": {},
   "source": [
    " The \\D, \\W, and \\S shorthand character classes match a single character that is not a digit, word, or space character, respectively."
   ]
  },
  {
   "cell_type": "markdown",
   "id": "949765cf",
   "metadata": {},
   "source": [
    "### 13. What do means by \\D, \\W, and \\S shorthand character classes signify in regular expressions?"
   ]
  },
  {
   "cell_type": "markdown",
   "id": "6dd34b13",
   "metadata": {},
   "source": [
    "These shorthand classes include:\n",
    "\\d: This is the \"digit character\" class represents the regex range [0-9], and it will match the single-digit character. \\s: This is the \"whitespace character\" class that represents the regex range, matching a single space, carriage return, tab, line break, form feed, or vertical tab."
   ]
  },
  {
   "cell_type": "markdown",
   "id": "b5ca3fea",
   "metadata": {},
   "source": [
    "### 14. What is the difference between .*? and .*?"
   ]
  },
  {
   "cell_type": "markdown",
   "id": "87142117",
   "metadata": {},
   "source": [
    "*? is non-greedy. * will match nothing, but then will try to match extra characters until it matches 1 , eventually matching 101 . All quantifiers have a non-greedy mode: ."
   ]
  },
  {
   "cell_type": "markdown",
   "id": "6354acdc",
   "metadata": {},
   "source": [
    "### 15. What is the syntax for matching both numbers and lowercase letters with a character class?"
   ]
  },
  {
   "cell_type": "markdown",
   "id": "1959e8bf",
   "metadata": {},
   "source": [
    " the regular expression \"[ A-Za-z] \" specifies to match any single uppercase or lowercase letter. In the character set, a hyphen indicates a range of characters, for example [A-Z] will match any one capital letter. In a character set a ^ character negates the following characters."
   ]
  },
  {
   "cell_type": "markdown",
   "id": "b76933a5",
   "metadata": {},
   "source": [
    "### 16. What is the procedure for making a normal expression in regax case insensitive?"
   ]
  },
  {
   "cell_type": "markdown",
   "id": "79ec3395",
   "metadata": {},
   "source": [
    "re.IGNORECASE : This flag allows for case-insensitive matching of the Regular Expression with the given string i.e. expressions like [A-Z] will match lowercase letters, too. Generally, It’s passed as an optional argument to re.compile()."
   ]
  },
  {
   "cell_type": "markdown",
   "id": "d354899b",
   "metadata": {},
   "source": [
    "### 17. What does the . character normally match? What does it match if re.DOTALL is passed as 2nd argument in re.compile()?"
   ]
  },
  {
   "cell_type": "markdown",
   "id": "5299d076",
   "metadata": {},
   "source": [
    "character normally matches any character except the newline character. If re. DOTALL is passed as the second argument to re. compile(), then the dot will also match newline characters."
   ]
  },
  {
   "cell_type": "markdown",
   "id": "4586e343",
   "metadata": {},
   "source": [
    "### 18. If numReg = re.compile(r'\\d+'), what will numRegex.sub('X', '11 drummers, 10 pipers, five rings, 4 hen') return?"
   ]
  },
  {
   "cell_type": "markdown",
   "id": "db0b2995",
   "metadata": {},
   "source": [
    "X drummers, X pipers, five rings, X hens"
   ]
  },
  {
   "cell_type": "markdown",
   "id": "618f6411",
   "metadata": {},
   "source": [
    "### 19. What does passing re.VERBOSE as the 2nd argument to re.compile() allow to do?"
   ]
  },
  {
   "cell_type": "markdown",
   "id": "c65faf3b",
   "metadata": {},
   "source": [
    "To ignore whitespace and comments inside the regular expression string."
   ]
  },
  {
   "cell_type": "markdown",
   "id": "d536df84",
   "metadata": {},
   "source": [
    "### 20. How would you write a regex that match a number with comma for every three digits? It must match the given following:\n",
    "#### '42'\n",
    "#### '1,234'\n",
    "#### '6,368,745'\n",
    "#### but not the following:\n",
    "#### '12,34,567' (which has only two digits between the commas)\n",
    "#### '1234' (which lacks commas)\n"
   ]
  },
  {
   "cell_type": "markdown",
   "id": "4b2c634f",
   "metadata": {},
   "source": [
    "numCommas = re.compile(r'(^\\d{1,3})(,\\d{3})*$') numCommas.search('12,34,567').group()"
   ]
  },
  {
   "cell_type": "markdown",
   "id": "1a651545",
   "metadata": {},
   "source": [
    "### 21. How would you write a regex that matches the full name of someone whose last name is Watanabe? You can assume that the first name that comes before it will always be one word that begins with a capital letter. The regex must match the following:\n",
    "#### 'Haruto Watanabe'\n",
    "#### 'Alice Watanabe'\n",
    "#### 'RoboCop Watanabe'\n",
    "#### but not the following:\n",
    "#### 'haruto Watanabe' (where the first name is not capitalized)\n",
    "#### 'Mr. Watanabe' (where the preceding word has a nonletter character)\n",
    "#### 'Watanabe' (which has no first name)\n",
    "#### 'Haruto watanabe' (where Watanabe is not capitalized)\n"
   ]
  },
  {
   "cell_type": "markdown",
   "id": "43532a2b",
   "metadata": {},
   "source": [
    "fullName = re.compile(r'[A-Z]\\w [A-Z]\\w') mo = fullName.findall('Satoshi Nakamoto, satoshi Nakamoto, Alice Nakamoto, Nakamoto, Satoshi nakamoto, Robocop Nakamoto') mo.group()"
   ]
  },
  {
   "cell_type": "markdown",
   "id": "35305559",
   "metadata": {},
   "source": [
    "### 22. How would you write a regex that matches a sentence where the first word is either Alice, Bob, or Carol; the second word is either eats, pets, or throws; the third word is apples, cats, or baseballs; and the sentence ends with a period? This regex should be case-insensitive. It must match the following:\n",
    "#### 'Alice eats apples.'\n",
    "#### 'Bob pets cats.'\n",
    "#### 'Carol throws baseballs.'\n",
    "#### 'Alice throws Apples.'\n",
    "#### 'BOB EATS CATS.'\n",
    "#### but not the following:\n",
    "#### 'RoboCop eats apples.'\n",
    "#### 'ALICE THROWS FOOTBALLS.'\n",
    "#### 'Carol eats 7 cats.'\n",
    "\n"
   ]
  },
  {
   "cell_type": "markdown",
   "id": "002dd5dc",
   "metadata": {},
   "source": [
    "Test result: [('Alice', 'eats', 'apples'), ('Bob', 'pets', 'cats'), ('Carol', 'throws', 'baseballs'), ('Alice', 'throws', 'Apples'), ('BOB', 'EATS', 'CATS')]"
   ]
  },
  {
   "cell_type": "code",
   "execution_count": null,
   "id": "3f283545",
   "metadata": {},
   "outputs": [],
   "source": []
  }
 ],
 "metadata": {
  "kernelspec": {
   "display_name": "Python 3 (ipykernel)",
   "language": "python",
   "name": "python3"
  },
  "language_info": {
   "codemirror_mode": {
    "name": "ipython",
    "version": 3
   },
   "file_extension": ".py",
   "mimetype": "text/x-python",
   "name": "python",
   "nbconvert_exporter": "python",
   "pygments_lexer": "ipython3",
   "version": "3.9.7"
  }
 },
 "nbformat": 4,
 "nbformat_minor": 5
}
