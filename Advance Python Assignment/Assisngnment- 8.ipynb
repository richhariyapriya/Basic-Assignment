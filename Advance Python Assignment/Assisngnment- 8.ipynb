{
 "cells": [
  {
   "cell_type": "markdown",
   "id": "c41fcb6d",
   "metadata": {},
   "source": [
    "### Q1. What are the two latest user-defined exception constraints in Python 3.X?"
   ]
  },
  {
   "cell_type": "markdown",
   "id": "d6b66d5a",
   "metadata": {},
   "source": [
    "Ans: raise and assert are the two latest user-defined exception constraints in Python 3.X"
   ]
  },
  {
   "cell_type": "markdown",
   "id": "a73c9c1c",
   "metadata": {},
   "source": [
    "### Q2. How are class-based exceptions that have been raised matched to handlers?"
   ]
  },
  {
   "cell_type": "markdown",
   "id": "6d6061e8",
   "metadata": {},
   "source": [
    "Ans: In python, Users can define custom exceptions by creating a new class. This exception class has to be derived, either directly or indirectly from built-in Exception class. This new exception class like other exceptions can be raised using the raise statement with an optional error message."
   ]
  },
  {
   "cell_type": "code",
   "execution_count": 2,
   "id": "1539a264",
   "metadata": {},
   "outputs": [
    {
     "name": "stdout",
     "output_type": "stream",
     "text": [
      "Too Young For Voting\n"
     ]
    }
   ],
   "source": [
    "try:\n",
    "    age = 12\n",
    "    if age <= 18:\n",
    "        raise ToYoungException('Too Young For Voting')\n",
    "except ToYoungException as e:\n",
    "    print(e.msg)  # Output: Too Young For Voting\n"
   ]
  },
  {
   "cell_type": "markdown",
   "id": "aadba805",
   "metadata": {},
   "source": [
    "### Q3. Describe two methods for attaching context information to exception artefacts ?"
   ]
  },
  {
   "cell_type": "markdown",
   "id": "af0868f3",
   "metadata": {},
   "source": [
    "Ans: The process() method of LoggerAdapter is where the contextual information is added to the logging output. its passes the message and keyword arguments of the logging call, and it passes back modified versions of these to use in the call to the underlying logger.\n",
    "\n",
    "Other method that can be used is exception(), Logs a messgae with level ERROR on this logger. The arguments are interpreted as for debug(). Exception info is added to the logging message."
   ]
  },
  {
   "cell_type": "markdown",
   "id": "a96fa884",
   "metadata": {},
   "source": [
    "### Q4. Describe two methods for specifying the text of an exception object's error message ?"
   ]
  },
  {
   "cell_type": "markdown",
   "id": "86613bfd",
   "metadata": {},
   "source": [
    "Ans: raise and assert are two methods for specifying the text of an exception object's error message.raise statement is used to trigger explicit exception, if certain condition is not as per requirement of programmer. it helps in triggering exception as per need of programmer and logic.\n",
    "\n",
    "There are few assertions that programmer always want to be True to avoid code failure. This type of requirment is fullfilled by assert statement. This statement takes a Boolean Condition output of which if True, further program executes. if output of assert statement is False it raises an Assertion Error."
   ]
  },
  {
   "cell_type": "markdown",
   "id": "451258d7",
   "metadata": {},
   "source": [
    "### Q5. Why do you no longer use string-based exceptions?"
   ]
  },
  {
   "cell_type": "markdown",
   "id": "210f5190",
   "metadata": {},
   "source": [
    "Ans: String-based Exceptions doesn't inherit from Exceptions. so plain exceptions catch all exceptions and not only system."
   ]
  },
  {
   "cell_type": "code",
   "execution_count": null,
   "id": "47723dbf",
   "metadata": {},
   "outputs": [],
   "source": []
  }
 ],
 "metadata": {
  "kernelspec": {
   "display_name": "Python 3 (ipykernel)",
   "language": "python",
   "name": "python3"
  },
  "language_info": {
   "codemirror_mode": {
    "name": "ipython",
    "version": 3
   },
   "file_extension": ".py",
   "mimetype": "text/x-python",
   "name": "python",
   "nbconvert_exporter": "python",
   "pygments_lexer": "ipython3",
   "version": "3.9.7"
  }
 },
 "nbformat": 4,
 "nbformat_minor": 5
}
