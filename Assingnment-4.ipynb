{
 "cells": [
  {
   "cell_type": "markdown",
   "id": "144d6e15",
   "metadata": {},
   "source": [
    "### 1. What exactly is []?\n"
   ]
  },
  {
   "cell_type": "markdown",
   "id": "6c24333c",
   "metadata": {},
   "source": [
    " The empty list value, which is a list value that contains no items. This is similar to how '' is the empty string value."
   ]
  },
  {
   "cell_type": "markdown",
   "id": "608c8a2e",
   "metadata": {},
   "source": [
    "### 2. In a list of values stored in a variable called spam, how would you assign the value 'hello' as the third value?  (Assume [2, 4, 6, 8, 10] are in spam.)"
   ]
  },
  {
   "cell_type": "markdown",
   "id": "deb4443f",
   "metadata": {},
   "source": [
    "spam[2] = 'hello' (Notice that the third value in a list is at index 2 because the first index is 0.)"
   ]
  },
  {
   "cell_type": "markdown",
   "id": "93df3919",
   "metadata": {},
   "source": [
    "### 3. What is the value of spam[int(int('3' * 2) / 11)]?"
   ]
  },
  {
   "cell_type": "markdown",
   "id": "5aaa7e1e",
   "metadata": {},
   "source": [
    "'d' (Note that '3' * 2 is the string '33', which is passed to int() before being divided by 11. \n",
    "This eventually evaluates to 3.Expressions can be used wherever values are used.)"
   ]
  },
  {
   "cell_type": "markdown",
   "id": "e7910015",
   "metadata": {},
   "source": [
    "### 4. What is the value of spam[-1]?"
   ]
  },
  {
   "cell_type": "markdown",
   "id": "5bf7af16",
   "metadata": {},
   "source": [
    "'d' (Negative indexes count from the end.)"
   ]
  },
  {
   "cell_type": "markdown",
   "id": "70dbc79d",
   "metadata": {},
   "source": [
    "### 5. What is the value of spam[:2]? Let's pretend bacon has the list [3.14, 'cat,' 11, 'cat,' True] for the next three questions."
   ]
  },
  {
   "cell_type": "markdown",
   "id": "783c3d55",
   "metadata": {},
   "source": [
    "['a', 'b']"
   ]
  },
  {
   "cell_type": "markdown",
   "id": "e2e471c5",
   "metadata": {},
   "source": [
    "### 6. What is the value of bacon.index('cat')?"
   ]
  },
  {
   "cell_type": "markdown",
   "id": "87ffe5ea",
   "metadata": {},
   "source": [
    "1"
   ]
  },
  {
   "cell_type": "markdown",
   "id": "b952326f",
   "metadata": {},
   "source": [
    "### 7. How does bacon.append(99) change the look of the list value in bacon?"
   ]
  },
  {
   "cell_type": "code",
   "execution_count": 2,
   "id": "923d955c",
   "metadata": {},
   "outputs": [
    {
     "data": {
      "text/plain": [
       "[3.14, 'cat', 11, 'cat', True, 99]"
      ]
     },
     "execution_count": 2,
     "metadata": {},
     "output_type": "execute_result"
    }
   ],
   "source": [
    "[3.14, 'cat', 11, 'cat', True, 99]"
   ]
  },
  {
   "cell_type": "markdown",
   "id": "13b2834d",
   "metadata": {},
   "source": [
    "### 8. How does bacon.remove('cat') change the look of the list in bacon?"
   ]
  },
  {
   "cell_type": "code",
   "execution_count": 1,
   "id": "2b41bd68",
   "metadata": {},
   "outputs": [
    {
     "data": {
      "text/plain": [
       "[3.14, 11, 'cat', True]"
      ]
     },
     "execution_count": 1,
     "metadata": {},
     "output_type": "execute_result"
    }
   ],
   "source": [
    "[3.14, 11, 'cat', True]"
   ]
  },
  {
   "cell_type": "markdown",
   "id": "a1f2dd02",
   "metadata": {},
   "source": [
    "### 9. What are the list concatenation and list replication operators?"
   ]
  },
  {
   "cell_type": "markdown",
   "id": "b5168a55",
   "metadata": {},
   "source": [
    "The operator for list concatenation is +, while the operator for replication is *. (This is the same as for strings.)"
   ]
  },
  {
   "cell_type": "markdown",
   "id": "9023934e",
   "metadata": {},
   "source": [
    "### 10. What is difference between the list methods append() and insert()?"
   ]
  },
  {
   "cell_type": "markdown",
   "id": "5d2f01a9",
   "metadata": {},
   "source": [
    "While append() will add values only to the end of a list, insert() can add them anywhere in the list."
   ]
  },
  {
   "cell_type": "markdown",
   "id": "43abf41d",
   "metadata": {},
   "source": [
    "### 11. What are the two methods for removing items from a list?"
   ]
  },
  {
   "cell_type": "markdown",
   "id": "421a6557",
   "metadata": {},
   "source": [
    "The methods are remove(), pop() and clear(). It helps to remove the very first given element matching from the list.\n",
    "The pop() method removes an element from the list based on the index given. The clear() method will remove all the elements present in the list."
   ]
  },
  {
   "cell_type": "markdown",
   "id": "311a2a7e",
   "metadata": {},
   "source": [
    "### 12. Describe how list values and string values are identical"
   ]
  },
  {
   "cell_type": "markdown",
   "id": "145030ff",
   "metadata": {},
   "source": [
    "The similarity between Lists and Strings in Python is that both are sequences. The differences between them are that firstly, Lists are mutable but Strings are immutable. \n",
    "Secondly, elements of a list can be of different types whereas a String only contains characters that are all of String type."
   ]
  },
  {
   "cell_type": "markdown",
   "id": "c8a6ca32",
   "metadata": {},
   "source": [
    "### 13. What's the difference between tuples and lists?"
   ]
  },
  {
   "cell_type": "markdown",
   "id": "7bd90b81",
   "metadata": {},
   "source": [
    "The key difference between the tuples and lists is that while the tuples are immutable objects the lists are mutable. \n",
    "This means that tuples cannot be changed while the lists can be modified."
   ]
  },
  {
   "cell_type": "markdown",
   "id": "484ca887",
   "metadata": {},
   "source": [
    "### 14. How do you type a tuple value that only contains the integer 42?"
   ]
  },
  {
   "cell_type": "markdown",
   "id": "99ec821a",
   "metadata": {},
   "source": [
    " tuples are written using parentheses, ( and ), while lists use the square brackets, [ and ]. \n",
    " How do you type the tuple value that has just the integer value 42 in it? (42,)  (The trailing comma is mandatory.)"
   ]
  },
  {
   "cell_type": "markdown",
   "id": "028a0813",
   "metadata": {},
   "source": [
    "### 15. How do you get a list value's tuple form? How do you get a tuple value's list form?"
   ]
  },
  {
   "cell_type": "code",
   "execution_count": 5,
   "id": "6ce4716d",
   "metadata": {},
   "outputs": [
    {
     "name": "stdout",
     "output_type": "stream",
     "text": [
      "(1, 2, 3, 4)\n"
     ]
    }
   ],
   "source": [
    "# Python3 program to convert a \n",
    "# list into a tuple\n",
    "def convert(list):\n",
    "    return tuple(list)\n",
    "  \n",
    "# Driver function\n",
    "list = [1, 2, 3, 4]\n",
    "print(convert(list))"
   ]
  },
  {
   "cell_type": "code",
   "execution_count": 7,
   "id": "908c0f81",
   "metadata": {},
   "outputs": [
    {
     "name": "stdout",
     "output_type": "stream",
     "text": [
      "['priya', 2, 'kalpana', 4, 'priyanka', '6']\n"
     ]
    }
   ],
   "source": [
    "# Python code to convert list of tuples into list\n",
    "\n",
    "# List of tuple initialization\n",
    "lt = [('priya', 2), ('kalpana', 4), ('priyanka', '6')]\n",
    "\n",
    "# using list comprehension\n",
    "out = [item for t in lt for item in t]\n",
    "\n",
    "# printing output\n",
    "print(out)\n"
   ]
  },
  {
   "cell_type": "code",
   "execution_count": null,
   "id": "1e36fde3",
   "metadata": {},
   "outputs": [],
   "source": []
  }
 ],
 "metadata": {
  "kernelspec": {
   "display_name": "Python 3 (ipykernel)",
   "language": "python",
   "name": "python3"
  },
  "language_info": {
   "codemirror_mode": {
    "name": "ipython",
    "version": 3
   },
   "file_extension": ".py",
   "mimetype": "text/x-python",
   "name": "python",
   "nbconvert_exporter": "python",
   "pygments_lexer": "ipython3",
   "version": "3.9.7"
  }
 },
 "nbformat": 4,
 "nbformat_minor": 5
}
